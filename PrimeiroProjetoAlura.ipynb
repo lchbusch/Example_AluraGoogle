{
  "nbformat": 4,
  "nbformat_minor": 0,
  "metadata": {
    "colab": {
      "provenance": [],
      "authorship_tag": "ABX9TyNs4e4ZAFyTaKXHotJtzH6h",
      "include_colab_link": true
    },
    "kernelspec": {
      "name": "python3",
      "display_name": "Python 3"
    },
    "language_info": {
      "name": "python"
    }
  },
  "cells": [
    {
      "cell_type": "markdown",
      "metadata": {
        "id": "view-in-github",
        "colab_type": "text"
      },
      "source": [
        "<a href=\"https://colab.research.google.com/github/lchbusch/Example_AluraGoogle/blob/main/PrimeiroProjetoAlura.ipynb\" target=\"_parent\"><img src=\"https://colab.research.google.com/assets/colab-badge.svg\" alt=\"Open In Colab\"/></a>"
      ]
    },
    {
      "cell_type": "markdown",
      "source": [
        "Instalando o SDK do Google."
      ],
      "metadata": {
        "id": "D3kAeWM0aeRw"
      }
    },
    {
      "cell_type": "code",
      "execution_count": 1,
      "metadata": {
        "id": "NhNjmAmLabDr"
      },
      "outputs": [],
      "source": [
        "!pip install -q -U google-generativeai"
      ]
    },
    {
      "cell_type": "markdown",
      "source": [
        "Importar e publicar a API Key"
      ],
      "metadata": {
        "id": "53mlIUykccEC"
      }
    },
    {
      "cell_type": "code",
      "source": [
        "import google.generativeai as genai\n",
        "\n",
        "from google.colab import userdata\n",
        "api_key = userdata.get('SECRET_KEY')\n",
        "genai.configure(api_key=api_key)"
      ],
      "metadata": {
        "id": "AXiB1Krkc3VK"
      },
      "execution_count": 14,
      "outputs": []
    },
    {
      "cell_type": "markdown",
      "source": [
        "Listar os modelos disponíveis."
      ],
      "metadata": {
        "id": "RfOs0jmbhBOe"
      }
    },
    {
      "cell_type": "code",
      "source": [
        "for m in genai.list_models():\n",
        "  if 'generateContent' in m.supported_generation_methods:\n",
        "    print(m.name)"
      ],
      "metadata": {
        "colab": {
          "base_uri": "https://localhost:8080/",
          "height": 139
        },
        "id": "hVjCzU7uhFnC",
        "outputId": "c8e80a5f-7a57-4bbc-a0f9-e8fb125c6968"
      },
      "execution_count": 3,
      "outputs": [
        {
          "output_type": "stream",
          "name": "stdout",
          "text": [
            "models/gemini-1.0-pro\n",
            "models/gemini-1.0-pro-001\n",
            "models/gemini-1.0-pro-latest\n",
            "models/gemini-1.0-pro-vision-latest\n",
            "models/gemini-1.5-pro-latest\n",
            "models/gemini-pro\n",
            "models/gemini-pro-vision\n"
          ]
        }
      ]
    },
    {
      "cell_type": "markdown",
      "source": [
        "Parametrizando o modelo."
      ],
      "metadata": {
        "id": "amCMvFZzk4ld"
      }
    },
    {
      "cell_type": "code",
      "source": [
        "generation_config = {\n",
        "   \"candidate_count\": 1,\n",
        "   \"temperature\": 0.5,\n",
        "}"
      ],
      "metadata": {
        "id": "IgC5HL8UjRet"
      },
      "execution_count": 4,
      "outputs": []
    },
    {
      "cell_type": "code",
      "source": [
        "safety_settings = {\n",
        "    \"HARASSMENT\": \"BLOCK_NONE\",\n",
        "    \"HATE\": \"BLOCK_NONE\",\n",
        "    \"SEXUAL\": \"BLOCK_NONE\",\n",
        "    \"DANGEROUS\": \"BLOCK_NONE\",\n",
        "}"
      ],
      "metadata": {
        "id": "YQJTXHQBlWRX"
      },
      "execution_count": 7,
      "outputs": []
    },
    {
      "cell_type": "markdown",
      "source": [
        "Inicializando o modelo"
      ],
      "metadata": {
        "id": "1G3Q-go-mJNp"
      }
    },
    {
      "cell_type": "code",
      "source": [
        "model = genai.GenerativeModel(model_name=\"gemini-1.0-pro\",\n",
        "                              generation_config=generation_config,\n",
        "                              safety_settings=safety_settings)"
      ],
      "metadata": {
        "id": "KUy5vbBVmLzB"
      },
      "execution_count": 8,
      "outputs": []
    },
    {
      "cell_type": "markdown",
      "source": [
        "Validando se o modelo está funcionando."
      ],
      "metadata": {
        "id": "HJGlt-61r-Iv"
      }
    },
    {
      "cell_type": "code",
      "source": [
        "response = model.generate_content(\"Vamos aprender mais conteúdo sobre IA. Me dê sugestões.\")\n",
        "print(response.text)"
      ],
      "metadata": {
        "colab": {
          "base_uri": "https://localhost:8080/",
          "height": 694
        },
        "id": "b1EiSS7VsG-7",
        "outputId": "8e546aee-32ad-475a-ffd3-60b52357e593"
      },
      "execution_count": 10,
      "outputs": [
        {
          "output_type": "stream",
          "name": "stdout",
          "text": [
            "**Recursos Online:**\n",
            "\n",
            "* **Coursera:** Cursos de IA de universidades de renome como Stanford e Georgia Tech.\n",
            "* **edX:** Cursos de IA de instituições como MIT e IBM.\n",
            "* **Udemy:** Cursos de IA para iniciantes e avançados.\n",
            "* **Kaggle Learn:** Plataforma de aprendizado de IA com cursos gratuitos e desafios práticos.\n",
            "* **Google AI Education:** Recursos e materiais de aprendizado de IA do Google.\n",
            "\n",
            "**Livros:**\n",
            "\n",
            "* **Inteligência Artificial: Um Guia Moderno** (Stuart Russell e Peter Norvig)\n",
            "* **Aprendizado de Máquina** (Ethem Alpaydin)\n",
            "* **Aprendizado Profundo** (Ian Goodfellow, Yoshua Bengio e Aaron Courville)\n",
            "* **Programação para Inteligência Artificial** (Python) (Sebastian Raschka)\n",
            "* **Inteligência Artificial para Iniciantes** (Mark Bowden)\n",
            "\n",
            "**Vídeos:**\n",
            "\n",
            "* **Canal do YouTube do Google AI**\n",
            "* **Canal do YouTube do MIT OpenCourseWare**\n",
            "* **Canal do YouTube do Stanford Online**\n",
            "* **Canal do YouTube do Coursera**\n",
            "* **Canal do YouTube do Udacity**\n",
            "\n",
            "**Comunidades e Fóruns:**\n",
            "\n",
            "* **Reddit r/artificialintelligence**\n",
            "* **Stack Overflow** (seção de IA)\n",
            "* **Kaggle** (comunidade de ciência de dados e IA)\n",
            "* **GitHub** (repositórios e projetos de IA)\n",
            "* **Fóruns de IA em plataformas como LinkedIn e Discord**\n",
            "\n",
            "**Outras Sugestões:**\n",
            "\n",
            "* **Participe de hackathons e competições de IA**\n",
            "* **Contribua para projetos de IA de código aberto**\n",
            "* **Leia artigos de pesquisa e participe de conferências de IA**\n",
            "* **Conecte-se com especialistas em IA em redes sociais e eventos**\n",
            "* **Pratique regularmente a programação e a resolução de problemas de IA**\n"
          ]
        }
      ]
    },
    {
      "cell_type": "markdown",
      "source": [
        "Criando o chat"
      ],
      "metadata": {
        "id": "ewRTN9BRtRc1"
      }
    },
    {
      "cell_type": "code",
      "source": [
        "chat = model.start_chat(history=[])"
      ],
      "metadata": {
        "id": "3czwnmjBtXXC"
      },
      "execution_count": 11,
      "outputs": []
    },
    {
      "cell_type": "code",
      "source": [
        "prompt = input(\"Esperando prompt: \")\n",
        "while prompt != \"fim\":\n",
        "  response = chat.send_message(prompt)\n",
        "  print(\"Resposta: \", response.text, \"\\n\")\n",
        "  prompt = input(\"Esperando prompt: \")"
      ],
      "metadata": {
        "colab": {
          "base_uri": "https://localhost:8080/",
          "height": 86
        },
        "id": "oYVBxe7Utk8N",
        "outputId": "47ef549f-e533-4b19-84d7-238d039b691a"
      },
      "execution_count": 13,
      "outputs": [
        {
          "name": "stdout",
          "output_type": "stream",
          "text": [
            "Esperando prompt: qual a capital do Japão?\n",
            "Resposta:  Tóquio \n",
            "\n",
            "Esperando prompt: fim\n"
          ]
        }
      ]
    }
  ]
}